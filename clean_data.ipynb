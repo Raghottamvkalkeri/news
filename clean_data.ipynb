{
 "cells": [
  {
   "cell_type": "code",
   "execution_count": 2,
   "metadata": {},
   "outputs": [
    {
     "data": {
      "text/plain": [
       "('cleaned_output.json', 'cleaned_output.csv')"
      ]
     },
     "execution_count": 2,
     "metadata": {},
     "output_type": "execute_result"
    }
   ],
   "source": [
    "import json\n",
    "import pandas as pd\n",
    "import re\n",
    "\n",
    "# Load uploaded JSON file\n",
    "with open(\"batch_output/output.json\", \"r\") as f:\n",
    "    data = json.load(f)\n",
    "\n",
    "# Convert to DataFrame\n",
    "df = pd.DataFrame(data)\n",
    "\n",
    "# Fill missing values\n",
    "df['author'] = df['author'].fillna(\"Unknown\")\n",
    "df['description'] = df['description'].fillna(\"No Description\")\n",
    "\n",
    "# Drop irrelevant columns if present\n",
    "columns_to_drop = [\"content\", \"urlToImage\"]\n",
    "df = df.drop(columns=[col for col in columns_to_drop if col in df.columns])\n",
    "\n",
    "# Clean text fields\n",
    "def clean_text(text):\n",
    "    if not isinstance(text, str):\n",
    "        return \"\"\n",
    "    text = re.sub(r\"<[^>]+>\", \"\", text)\n",
    "    text = re.sub(r\"\\s+\", \" \", text)\n",
    "    return text.strip().lower()\n",
    "\n",
    "df['title'] = df['title'].apply(clean_text)\n",
    "df['description'] = df['description'].apply(clean_text)\n",
    "\n",
    "# Remove duplicates by 'url'\n",
    "df = df.drop_duplicates(subset=\"url\")\n",
    "\n",
    "# Convert publishedAt to datetime if present\n",
    "if 'publishedAt' in df.columns:\n",
    "    df['publishedAt'] = pd.to_datetime(df['publishedAt'], errors='coerce')\n",
    "\n",
    "# Save cleaned data\n",
    "cleaned_json_path = \"cleaned_output.json\"\n",
    "cleaned_csv_path = \"cleaned_output.csv\"\n",
    "\n",
    "df.to_json(cleaned_json_path, orient=\"records\", indent=4)\n",
    "df.to_csv(cleaned_csv_path, index=False)\n",
    "\n",
    "cleaned_json_path, cleaned_csv_path"
   ]
  }
 ],
 "metadata": {
  "kernelspec": {
   "display_name": "base",
   "language": "python",
   "name": "python3"
  },
  "language_info": {
   "codemirror_mode": {
    "name": "ipython",
    "version": 3
   },
   "file_extension": ".py",
   "mimetype": "text/x-python",
   "name": "python",
   "nbconvert_exporter": "python",
   "pygments_lexer": "ipython3",
   "version": "3.12.7"
  }
 },
 "nbformat": 4,
 "nbformat_minor": 2
}
